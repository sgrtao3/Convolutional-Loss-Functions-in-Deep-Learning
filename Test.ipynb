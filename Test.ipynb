{
  "nbformat": 4,
  "nbformat_minor": 0,
  "metadata": {
    "colab": {
      "name": "Test.ipynb",
      "provenance": [],
      "collapsed_sections": []
    },
    "kernelspec": {
      "name": "python3",
      "display_name": "Python 3"
    },
    "language_info": {
      "name": "python"
    },
    "accelerator": "GPU"
  },
  "cells": [
    {
      "cell_type": "code",
      "metadata": {
        "colab": {
          "base_uri": "https://localhost:8080/"
        },
        "id": "1VhAY3q0FEt2",
        "outputId": "88c606da-307b-463f-927f-4794e84459c7"
      },
      "source": [
        "import torch  # Pytorch\n",
        "import torch.nn as nn  # Neural network module\n",
        "import torch.nn.functional as fn  # Function module\n",
        "from torchvision import datasets  # Datasets from torchvision\n",
        "from torchvision import transforms  # Transforms from torchvision\n",
        "from sklearn.model_selection import StratifiedShuffleSplit, train_test_split\n",
        "\n",
        "import matplotlib.pyplot as plt  # Plotting using matplotlib\n",
        "import numpy as np  # Numpy\n",
        "\n",
        "\n",
        "if torch.cuda.is_available():\n",
        "    device = 'cuda'\n",
        "else:\n",
        "    device = 'cpu'\n",
        "\n",
        "print(\"Running on \" + device)"
      ],
      "execution_count": 1,
      "outputs": [
        {
          "output_type": "stream",
          "text": [
            "Running on cuda\n"
          ],
          "name": "stdout"
        }
      ]
    },
    {
      "cell_type": "markdown",
      "metadata": {
        "id": "GSPtYrQOaTg7"
      },
      "source": [
        "# Test for 1D - Method 1 (Not using torch.roll)"
      ]
    },
    {
      "cell_type": "code",
      "metadata": {
        "id": "tyrNP68raOm5"
      },
      "source": [
        "def get_loss1d2(pred, original):\n",
        "    # 0 at window[391] and 1 elsewhere\n",
        "    window = torch.ones(784)\n",
        "    window[391] = 0\n",
        "    window = window.to(device)\n",
        "\n",
        "    lw = 784\n",
        "\n",
        "    # Creating toeplitz matrix A\n",
        "    x = original.view(784).to(device)\n",
        "    h = lw\n",
        "    A = torch.zeros((2*h-1, h))\n",
        "    for i in range(h):\n",
        "        A[i:i+h, i] = x[:]\n",
        "    A = A.to(device)\n",
        "    A_T = torch.transpose(A, 0, 1)\n",
        "\n",
        "    # Creating padded vector b\n",
        "    b = pred.view(784).to(device)\n",
        "    n = 2*lw-1-28*28\n",
        "    l = np.floor(n/2)\n",
        "    r = n-l\n",
        "    #bz0 = torch.zeros(int(l)).to(device)\n",
        "    #bz1 = torch.zeros(int(r)).to(device)\n",
        "    b = nn.ConstantPad1d((int(l), int(r)), value=0)(b)\n",
        "    #b = torch.cat([bz0, b, bz1], dim = 0).to(device)\n",
        "    # Calculating filter w with length of lw\n",
        "    inv = torch.inverse(A_T @ A)\n",
        "    # inv = inv.to(device)\n",
        "    w = inv @ A_T @ b\n",
        "   \n",
        "    # plot the filter and check whether it is a delta function\n",
        "    w2 = w.cpu().detach().numpy()\n",
        "    plt.plot(w2)\n",
        "    plt.show()\n",
        "    \n",
        "    # plot the output image after the input Toeplitz matrix convolved with the filter\n",
        "    res = A @ w\n",
        "    res = res[int(l):int(l+784)].reshape((28,28)).cpu().numpy()\n",
        "    plt.imshow(res)\n",
        "    plt.show()\n",
        "\n",
        "    # Calculating loss for pred[k]\n",
        "    loss = 0.5 * torch.sum((window * w)**2) \n",
        "    \n",
        "    return loss.to(device)"
      ],
      "execution_count": null,
      "outputs": []
    },
    {
      "cell_type": "code",
      "metadata": {
        "colab": {
          "base_uri": "https://localhost:8080/",
          "height": 777
        },
        "id": "rIMUsixBaxbI",
        "outputId": "7e805abe-ff18-4b2d-ce91-24c5ed9d8e54"
      },
      "source": [
        "# set up a random image for test\n",
        "P_test = torch.zeros(1, 1, 28, 28)\n",
        "for i in range(P_test.size(2)):\n",
        "   P_test[:, :, i, :] = i + 1\n",
        "\n",
        "# plot this random image, which is considered as \n",
        "# the original image before the convolution operation\n",
        "plt.imshow(P_test.squeeze(0).squeeze(0))\n",
        "plt.show()\n",
        "\n",
        "# check the filter\n",
        "get_loss1d2(P_test.to(device), P_test.to(device))"
      ],
      "execution_count": null,
      "outputs": [
        {
          "output_type": "display_data",
          "data": {
            "image/png": "[encoded data removed]",
            "text/plain": [
              "<Figure size 432x288 with 1 Axes>"
            ]
          },
          "metadata": {
            "needs_background": "light"
          }
        },
        {
          "output_type": "display_data",
          "data": {
            "image/png": "[encoded data removed]",
            "text/plain": [
              "<Figure size 432x288 with 1 Axes>"
            ]
          },
          "metadata": {
            "needs_background": "light"
          }
        },
        {
          "output_type": "display_data",
          "data": {
            "image/png": "[encoded data removed]",
            "text/plain": [
              "<Figure size 432x288 with 1 Axes>"
            ]
          },
          "metadata": {
            "needs_background": "light"
          }
        },
        {
          "output_type": "execute_result",
          "data": {
            "text/plain": [
              "tensor(9.4055e-05, device='cuda:0')"
            ]
          },
          "metadata": {},
          "execution_count": 16
        }
      ]
    },
    {
      "cell_type": "markdown",
      "metadata": {
        "id": "_1nTnBWZa1wY"
      },
      "source": [
        "### Use the same input and output data. The above test shows that filter w is a delta function. Also, the output image after the convolution between Toeplitz matrix and filter is still the same with the input image. So, filter is correct."
      ]
    },
    {
      "cell_type": "markdown",
      "metadata": {
        "id": "OIknOP2kUOZT"
      },
      "source": [
        "# Test for 1D - Method 2 (Using torch.roll) \n"
      ]
    },
    {
      "cell_type": "code",
      "metadata": {
        "id": "Gw0xXXRaFhev"
      },
      "source": [
        "def get_loss(pred, original):\n",
        "    # 0 at window[391] and 1 elsewhere\n",
        "    window = torch.ones(784)\n",
        "    window[391] = 0\n",
        "    window = window.to(device)\n",
        "\n",
        "    lw = 784\n",
        "\n",
        "    # Creating toeplitz matrix A\n",
        "    x = torch.flatten(original, start_dim=1).squeeze()\n",
        "    z = torch.zeros(lw-1).to(device)\n",
        "    x = torch.cat([x, z], dim = 0).to(device)\n",
        "    A_T = torch.zeros((lw, len(x))).to(device)\n",
        "    for j in range(lw):\n",
        "        A_T[j] = torch.roll(x, j)\n",
        "    A = torch.transpose(A_T, 0, 1)\n",
        "    # Creating padded vector b\n",
        "    b = torch.flatten(pred, start_dim=1).squeeze()\n",
        "    n = 2*lw-1-28*28\n",
        "    l = np.floor(n/2)\n",
        "    r = n-l\n",
        "    bz0 = torch.zeros(int(l)).to(device)\n",
        "    bz1 = torch.zeros(int(r)).to(device)\n",
        "    b = torch.cat([bz0, b, bz1], dim = 0).to(device)\n",
        "    # Calculating filter w with length of lw\n",
        "    inv = torch.inverse(A_T @ A)\n",
        "    # inv = inv.to(device)\n",
        "    w = inv @ A_T @ b\n",
        "    \n",
        "    # plot and check wheter w is a delta function\n",
        "    w2 = w.cpu().detach().numpy()\n",
        "    plt.plot(w2)\n",
        "    plt.show()\n",
        "\n",
        "    # plot the output image after the input Toeplitz matrix convolved with the filter\n",
        "    res = A @ w\n",
        "    res = res[int(l):int(l+784)].reshape((28,28)).cpu().numpy()\n",
        "    plt.imshow(res)\n",
        "    plt.show()\n",
        "\n",
        "    # Calculating loss for pred[k]\n",
        "    loss = 0.5 * torch.sum((window * w)**2) \n",
        "    \n",
        "    return loss.to(device)\n"
      ],
      "execution_count": null,
      "outputs": []
    },
    {
      "cell_type": "code",
      "metadata": {
        "colab": {
          "base_uri": "https://localhost:8080/",
          "height": 777
        },
        "id": "_k98e5aGHNVx",
        "outputId": "36e7f1be-7f74-4ae3-a8e9-dcf18975290d"
      },
      "source": [
        "# set up a random image for test\n",
        "P_test = torch.zeros(1, 1, 28, 28)\n",
        "for i in range(P_test.size(2)):\n",
        "   P_test[:, :, i, :] = i + 1\n",
        "\n",
        "# plot this random image, which is considered as \n",
        "# the original image before the convolution operation\n",
        "plt.imshow(P_test.squeeze(0).squeeze(0))\n",
        "plt.show()\n",
        "\n",
        "# check the filter\n",
        "get_loss(P_test.to(device), P_test.to(device))\n"
      ],
      "execution_count": null,
      "outputs": [
        {
          "output_type": "display_data",
          "data": {
            "image/png": "[encoded data removed]",
            "text/plain": [
              "<Figure size 432x288 with 1 Axes>"
            ]
          },
          "metadata": {
            "needs_background": "light"
          }
        },
        {
          "output_type": "display_data",
          "data": {
            "image/png": "[encoded data removed]",
            "text/plain": [
              "<Figure size 432x288 with 1 Axes>"
            ]
          },
          "metadata": {
            "needs_background": "light"
          }
        },
        {
          "output_type": "display_data",
          "data": {
            "image/png": "[encoded data removed]",
            "text/plain": [
              "<Figure size 432x288 with 1 Axes>"
            ]
          },
          "metadata": {
            "needs_background": "light"
          }
        },
        {
          "output_type": "execute_result",
          "data": {
            "text/plain": [
              "tensor(9.4055e-05, device='cuda:0')"
            ]
          },
          "metadata": {},
          "execution_count": 9
        }
      ]
    },
    {
      "cell_type": "markdown",
      "metadata": {
        "id": "l-HVD49qUrwI"
      },
      "source": [
        "### Use the same input and output data. The above test shows that filter w is a delta function. Also, the output image after the convolution between Toeplitz matrix and filter is still the same with the input image. So, filter is correct."
      ]
    },
    {
      "cell_type": "markdown",
      "metadata": {
        "id": "txVROMJ6VX0t"
      },
      "source": [
        "# Test for 2D"
      ]
    },
    {
      "cell_type": "code",
      "metadata": {
        "colab": {
          "base_uri": "https://localhost:8080/"
        },
        "id": "O_mL7p1IVBkx",
        "outputId": "7ff46f12-0d3e-4247-e035-a5faafdb527d"
      },
      "source": [
        "import torch\n",
        "import numpy as np\n",
        "# Generating Toeplitz matrix A\n",
        "\n",
        "# x = torch.from_numpy(np.array([[1,2,3,4],[3,4,2,4],[1,2,3,4],[1,2,3,4]]))\n",
        "x = torch.from_numpy(np.array([[1,2,3],[4,5,6],[7,8,9]]))\n",
        "print('a:')\n",
        "print(x)\n",
        "print(' ')\n",
        "# x = torch.from_numpy(np.array([[1,2],[3,4]]))\n",
        "h = x.size(0)\n",
        "C = torch.zeros((2*h-1, 2*h-1, h))\n",
        "for i in range(h):\n",
        "    toep = torch.zeros((h, 2*h-1))\n",
        "    z = torch.zeros(2*h-1-h)\n",
        "    a = torch.cat([x[i], z], dim = 0)\n",
        "    for j in range(h):\n",
        "        toep[j] = torch.roll(a, j)\n",
        "    toep = torch.transpose(toep, 0, 1)\n",
        "    C[i] = toep\n",
        "\n",
        "A = C.reshape(((2*h-1)**2, h))\n",
        "\n",
        "for j in range(1, h):\n",
        "    A = torch.hstack((A, torch.roll(C, j, dims=-3).reshape(((2*h-1)**2), h)))\n",
        "print('A:')\n",
        "print(A)\n",
        "print(' ')\n",
        "A_T = torch.transpose(A, 0, 1)\n",
        "\n",
        "\n",
        "# Creating padding for matrix b\n",
        "#b = torch.from_numpy(np.array([[0,0,0,0,0,0,0],[0,0,0,0,0,0,0],[0,0,0,0,0,0,0],[1,2,3,4,0,0,0],[3,4,2,4,0,0,0],[1,2,3,4,0,0,0],[1,2,3,4,0,0,0]])).float()\n",
        "# b = torch.from_numpy(np.array([[0,0,0,0,0],[0,0,0,0,0],[1,2,3,0,0],[3,4,2,0,0],[1,2,3,0,0]])).float()\n",
        "# b = torch.from_numpy(np.array([[0,0,0],[1,2,0],[3,4,0]])).float()\n",
        "\n",
        "# top padding\n",
        "tp = torch.zeros(int((2*h-1-h)/2), 2*h-1)\n",
        "# bottom padding\n",
        "bp = torch.zeros(2*h-1-h-int((2*h-1-h)/2), 2*h-1)\n",
        "# right padding\n",
        "rp = torch.zeros((h, int((2*h-1-h)/2)))\n",
        "# left padding \n",
        "lp = torch.zeros((h, 2*h-1-h-int((2*h-1-h)/2)))\n",
        "# Stacking padding\n",
        "b = torch.hstack((lp, x, rp))\n",
        "b = torch.vstack((tp, b, bp))\n",
        "\n",
        "print('b:')\n",
        "print(b)\n",
        "print(' ')\n",
        "b = b.view((2*h-1)**2)\n",
        "inv = torch.inverse(A_T @ A)\n",
        "# inv = inv.to(device)\n",
        "w = inv @ A_T @ b\n",
        "print('w:')\n",
        "print(w)\n",
        "print(' ')\n",
        "\n",
        "print('Padded A*w = b :')\n",
        "print((A @ w).reshape(2*h-1,2*h-1))\n",
        "\n",
        "    "
      ],
      "execution_count": null,
      "outputs": [
        {
          "output_type": "stream",
          "text": [
            "a:\n",
            "tensor([[1, 2, 3],\n",
            "        [4, 5, 6],\n",
            "        [7, 8, 9]])\n",
            " \n",
            "A:\n",
            "tensor([[1., 0., 0., 0., 0., 0., 0., 0., 0.],\n",
            "        [2., 1., 0., 0., 0., 0., 0., 0., 0.],\n",
            "        [3., 2., 1., 0., 0., 0., 0., 0., 0.],\n",
            "        [0., 3., 2., 0., 0., 0., 0., 0., 0.],\n",
            "        [0., 0., 3., 0., 0., 0., 0., 0., 0.],\n",
            "        [4., 0., 0., 1., 0., 0., 0., 0., 0.],\n",
            "        [5., 4., 0., 2., 1., 0., 0., 0., 0.],\n",
            "        [6., 5., 4., 3., 2., 1., 0., 0., 0.],\n",
            "        [0., 6., 5., 0., 3., 2., 0., 0., 0.],\n",
            "        [0., 0., 6., 0., 0., 3., 0., 0., 0.],\n",
            "        [7., 0., 0., 4., 0., 0., 1., 0., 0.],\n",
            "        [8., 7., 0., 5., 4., 0., 2., 1., 0.],\n",
            "        [9., 8., 7., 6., 5., 4., 3., 2., 1.],\n",
            "        [0., 9., 8., 0., 6., 5., 0., 3., 2.],\n",
            "        [0., 0., 9., 0., 0., 6., 0., 0., 3.],\n",
            "        [0., 0., 0., 7., 0., 0., 4., 0., 0.],\n",
            "        [0., 0., 0., 8., 7., 0., 5., 4., 0.],\n",
            "        [0., 0., 0., 9., 8., 7., 6., 5., 4.],\n",
            "        [0., 0., 0., 0., 9., 8., 0., 6., 5.],\n",
            "        [0., 0., 0., 0., 0., 9., 0., 0., 6.],\n",
            "        [0., 0., 0., 0., 0., 0., 7., 0., 0.],\n",
            "        [0., 0., 0., 0., 0., 0., 8., 7., 0.],\n",
            "        [0., 0., 0., 0., 0., 0., 9., 8., 7.],\n",
            "        [0., 0., 0., 0., 0., 0., 0., 9., 8.],\n",
            "        [0., 0., 0., 0., 0., 0., 0., 0., 9.]])\n",
            " \n",
            "b:\n",
            "tensor([[0., 0., 0., 0., 0.],\n",
            "        [0., 1., 2., 3., 0.],\n",
            "        [0., 4., 5., 6., 0.],\n",
            "        [0., 7., 8., 9., 0.],\n",
            "        [0., 0., 0., 0., 0.]])\n",
            " \n",
            "w:\n",
            "tensor([ 5.9605e-08, -2.2352e-07,  5.9605e-08,  2.0862e-07,  1.0000e+00,\n",
            "        -7.4506e-08,  1.3039e-08,  1.0245e-08,  3.7253e-08])\n",
            " \n",
            "Padded A*w = b :\n",
            "tensor([[ 5.9605e-08, -1.0431e-07, -2.0862e-07, -5.5134e-07,  1.7881e-07],\n",
            "        [ 4.4703e-07,  1.0000e+00,  2.0000e+00,  3.0000e+00,  1.3411e-07],\n",
            "        [ 1.2647e-06,  4.0000e+00,  5.0000e+00,  6.0000e+00,  2.0117e-07],\n",
            "        [ 1.5125e-06,  7.0000e+00,  8.0000e+00,  9.0000e+00, -4.4703e-07],\n",
            "        [ 9.1270e-08,  1.7602e-07,  4.6007e-07,  3.9022e-07,  3.3528e-07]])\n"
          ],
          "name": "stdout"
        }
      ]
    },
    {
      "cell_type": "markdown",
      "metadata": {
        "id": "DRiL0CwsVvqA"
      },
      "source": [
        "### From above printouts, it shows that A is in a correct form of a Toeplitz matrix of a. b is also padded in a correct way. It shows that the 2D convolution is correct since A*w = b. "
      ]
    },
    {
      "cell_type": "code",
      "metadata": {
        "id": "le-OnrcqZfmQ"
      },
      "source": [
        "def get_loss2d(pred, original):\n",
        "    h = 28\n",
        "    window = torch.ones(h*h)\n",
        "    window[378] = 0\n",
        "    window = window.to(device)\n",
        "\n",
        "    # Creating toeplitz matrix A\n",
        "    x = original.squeeze().to(device)\n",
        "    C = torch.zeros((2*h-1, 2*h-1, h)).to(device)\n",
        "    for i in range(h):\n",
        "        toep = torch.zeros((h, 2*h-1)).to(device)\n",
        "        z = torch.zeros(2*h-1-h).to(device)\n",
        "        a = torch.cat([x[i], z], dim = 0)\n",
        "        for j in range(h):\n",
        "            toep[j] = torch.roll(a, j)\n",
        "        toep = torch.transpose(toep, 0, 1)\n",
        "        C[i] = toep\n",
        "\n",
        "    A = C.reshape(((2*h-1)**2, h))\n",
        "    for j in range(1, h):\n",
        "        A = torch.hstack((A, torch.roll(C, j, dims=-3).reshape(((2*h-1)**2), h)))\n",
        "    A_T = torch.transpose(A, 0, 1).to(device)\n",
        "\n",
        "    # Creating padded vector b\n",
        "\n",
        "    # top padding\n",
        "    tp = torch.zeros(int((2*h-1-h)/2), 2*h-1).to(device)\n",
        "    # bottom padding\n",
        "    bp = torch.zeros(2*h-1-h-int((2*h-1-h)/2), 2*h-1).to(device)\n",
        "    # right padding\n",
        "    rp = torch.zeros((h, int((2*h-1-h)/2))).to(device)\n",
        "    # left padding \n",
        "    lp = torch.zeros((h, 2*h-1-h-int((2*h-1-h)/2))).to(device)\n",
        "    # Stacking padding\n",
        "    b = torch.hstack((lp, pred.squeeze().to(device), rp))\n",
        "    b = torch.vstack((tp, b, bp))\n",
        "\n",
        "    b = b.view((2*h-1)**2)\n",
        "\n",
        "    inv = torch.inverse(A_T @ A)\n",
        "\n",
        "    w = inv @ A_T @ b\n",
        "\n",
        "    # plot the output image after the input Toeplitz matrix convolved with the filter\n",
        "    res = A @ w\n",
        "    res = res.reshape((2*h-1, 2*h-1)).cpu().numpy()\n",
        "    res2 = res[int((2*h-1-h)/2):(int((2*h-1-h)/2)+h),(2*h-1-h-int((2*h-1-h)/2)):(2*h-1-int((2*h-1-h)/2))]\n",
        "    plt.imshow(res2)\n",
        "    plt.show()\n",
        "\n",
        "    w2 = w.cpu().detach().numpy()\n",
        "    plt.plot(w2)\n",
        "    plt.show()\n",
        "\n",
        "    loss = 0.5 * torch.sum((window * w)**2)\n",
        "    \n",
        "    return loss.to(device)"
      ],
      "execution_count": 24,
      "outputs": []
    },
    {
      "cell_type": "code",
      "metadata": {
        "colab": {
          "base_uri": "https://localhost:8080/",
          "height": 777
        },
        "id": "cE1gA5V6Zx9U",
        "outputId": "28a0cad5-c16a-4161-a720-0740ec9d07cd"
      },
      "source": [
        "# set up a random image for test\n",
        "P_test = torch.zeros(1, 1, 28, 28)\n",
        "for i in range(P_test.size(2)):\n",
        "   P_test[:, :, i, :] = i + 1\n",
        "\n",
        "\n",
        "# plot this random image, which is considered as \n",
        "# the original image before the convolution operation\n",
        "plt.imshow(P_test.squeeze(0).squeeze(0))\n",
        "plt.show()\n",
        "\n",
        "# check the filter\n",
        "get_loss2d(P_test.to(device), P_test.to(device))"
      ],
      "execution_count": 25,
      "outputs": [
        {
          "output_type": "display_data",
          "data": {
            "image/png": "[encoded data removed]",
            "text/plain": [
              "<Figure size 432x288 with 1 Axes>"
            ]
          },
          "metadata": {
            "needs_background": "light"
          }
        },
        {
          "output_type": "display_data",
          "data": {
            "image/png": "[encoded data removed]",
            "text/plain": [
              "<Figure size 432x288 with 1 Axes>"
            ]
          },
          "metadata": {
            "needs_background": "light"
          }
        },
        {
          "output_type": "display_data",
          "data": {
            "image/png": "[encoded data removed]",
            "text/plain": [
              "<Figure size 432x288 with 1 Axes>"
            ]
          },
          "metadata": {
            "needs_background": "light"
          }
        },
        {
          "output_type": "execute_result",
          "data": {
            "text/plain": [
              "tensor(5.3352e-05, device='cuda:0')"
            ]
          },
          "metadata": {},
          "execution_count": 25
        }
      ]
    },
    {
      "cell_type": "markdown",
      "metadata": {
        "id": "pOfm1-_jZ2MQ"
      },
      "source": [
        "### Use the same input and output data. The above test shows that filter w is a delta function. Also, the output image after the convolution between Toeplitz matrix and filter is still the same with the input image. So, filter is correct when the calculation is 2D."
      ]
    }
  ]
}